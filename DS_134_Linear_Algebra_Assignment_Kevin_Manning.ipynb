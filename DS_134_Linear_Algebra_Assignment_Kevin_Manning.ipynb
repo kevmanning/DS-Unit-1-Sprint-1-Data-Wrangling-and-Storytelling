{
  "nbformat": 4,
  "nbformat_minor": 0,
  "metadata": {
    "colab": {
      "name": "DS_134_Linear_Algebra_Assignment_Kevin_Manning.ipynb",
      "provenance": [],
      "collapsed_sections": [],
      "include_colab_link": true
    },
    "kernelspec": {
      "display_name": "Python 3",
      "language": "python",
      "name": "python3"
    },
    "language_info": {
      "codemirror_mode": {
        "name": "ipython",
        "version": 3
      },
      "file_extension": ".py",
      "mimetype": "text/x-python",
      "name": "python",
      "nbconvert_exporter": "python",
      "pygments_lexer": "ipython3",
      "version": "3.6.4"
    }
  },
  "cells": [
    {
      "cell_type": "markdown",
      "metadata": {
        "id": "view-in-github",
        "colab_type": "text"
      },
      "source": [
        "<a href=\"https://colab.research.google.com/github/kevmanning/DS-Unit-1-Sprint-1-Data-Wrangling-and-Storytelling/blob/master/DS_134_Linear_Algebra_Assignment_Kevin_Manning.ipynb\" target=\"_parent\"><img src=\"https://colab.research.google.com/assets/colab-badge.svg\" alt=\"Open In Colab\"/></a>"
      ]
    },
    {
      "cell_type": "markdown",
      "metadata": {
        "id": "iovQcSbqJl0_"
      },
      "source": [
        "## Objectives:\n",
        "- define a vector and calculate a vector length and dot product\n",
        "- define a matrix and calculate a matrix dot product, transpose, and inverse\n",
        "- explain cosine similarity and compute the similarity between two vectors\n",
        "- use linear algebra to solve for linear regression coefficients"
      ]
    },
    {
      "cell_type": "markdown",
      "metadata": {
        "id": "cFb8YfSCQJmx"
      },
      "source": [
        "#Use the following information to answer the assignment questions 1) - 11)."
      ]
    },
    {
      "cell_type": "markdown",
      "metadata": {
        "id": "MHWnltybtm8_"
      },
      "source": [
        "###Is head size related to brain weight in healthy adult humans?\n",
        "\n",
        "The Brainhead.csv dataset provides information on 237 individuals who were subject to post-mortem examination at the Middlesex Hospital in London around the turn of the 20th century. Study authors used cadavers to see if a relationship between brain weight and other more easily measured physiological characterizes such as age, sex, and head size could be determined. The end goal was to develop a way to estimate a person’s brain size while they were still alive (as the living aren’t keen on having their brains taken out and weighed). "
      ]
    },
    {
      "cell_type": "markdown",
      "metadata": {
        "id": "h5MRpr1HQHqp"
      },
      "source": [
        "**We wish to determine if we can improve on our model of the linear relationship between head size and brain weight in healthy human adults.**\n",
        "\n",
        "Source: R.J. Gladstone (1905). \"A Study of the Relations of the Brain to the Size of the Head\", Biometrika, Vol. 4, pp105-123."
      ]
    },
    {
      "cell_type": "code",
      "metadata": {
        "id": "0NKz1DvXQHqq",
        "colab": {
          "base_uri": "https://localhost:8080/",
          "height": 204
        },
        "outputId": "1089a70f-3152-4d4a-852e-ba7d1fadc734"
      },
      "source": [
        "#Import the Brainhead.csv dataset from a URL and print the first few rows\n",
        "\n",
        "import pandas as pd\n",
        "import numpy as np\n",
        "\n",
        "\n",
        "data_url = 'https://raw.githubusercontent.com/LambdaSchool/data-science-practice-datasets/main/unit_1/Brainhead/Brainhead.csv'\n",
        "\n",
        "df = pd.read_csv(data_url, skipinitialspace=True, header=0)\n",
        "\n",
        "df.head()"
      ],
      "execution_count": 1,
      "outputs": [
        {
          "output_type": "execute_result",
          "data": {
            "text/html": [
              "<div>\n",
              "<style scoped>\n",
              "    .dataframe tbody tr th:only-of-type {\n",
              "        vertical-align: middle;\n",
              "    }\n",
              "\n",
              "    .dataframe tbody tr th {\n",
              "        vertical-align: top;\n",
              "    }\n",
              "\n",
              "    .dataframe thead th {\n",
              "        text-align: right;\n",
              "    }\n",
              "</style>\n",
              "<table border=\"1\" class=\"dataframe\">\n",
              "  <thead>\n",
              "    <tr style=\"text-align: right;\">\n",
              "      <th></th>\n",
              "      <th>Gender</th>\n",
              "      <th>Age</th>\n",
              "      <th>Head</th>\n",
              "      <th>Brain</th>\n",
              "    </tr>\n",
              "  </thead>\n",
              "  <tbody>\n",
              "    <tr>\n",
              "      <th>0</th>\n",
              "      <td>1</td>\n",
              "      <td>1</td>\n",
              "      <td>4512</td>\n",
              "      <td>1530</td>\n",
              "    </tr>\n",
              "    <tr>\n",
              "      <th>1</th>\n",
              "      <td>1</td>\n",
              "      <td>1</td>\n",
              "      <td>3738</td>\n",
              "      <td>1297</td>\n",
              "    </tr>\n",
              "    <tr>\n",
              "      <th>2</th>\n",
              "      <td>1</td>\n",
              "      <td>1</td>\n",
              "      <td>4261</td>\n",
              "      <td>1335</td>\n",
              "    </tr>\n",
              "    <tr>\n",
              "      <th>3</th>\n",
              "      <td>1</td>\n",
              "      <td>1</td>\n",
              "      <td>3777</td>\n",
              "      <td>1282</td>\n",
              "    </tr>\n",
              "    <tr>\n",
              "      <th>4</th>\n",
              "      <td>1</td>\n",
              "      <td>1</td>\n",
              "      <td>4177</td>\n",
              "      <td>1590</td>\n",
              "    </tr>\n",
              "  </tbody>\n",
              "</table>\n",
              "</div>"
            ],
            "text/plain": [
              "   Gender  Age  Head  Brain\n",
              "0       1    1  4512   1530\n",
              "1       1    1  3738   1297\n",
              "2       1    1  4261   1335\n",
              "3       1    1  3777   1282\n",
              "4       1    1  4177   1590"
            ]
          },
          "metadata": {
            "tags": []
          },
          "execution_count": 1
        }
      ]
    },
    {
      "cell_type": "markdown",
      "metadata": {
        "id": "UZ645l24as2R"
      },
      "source": [
        "1) Store the response variable - brain size - as a matrix called Y."
      ]
    },
    {
      "cell_type": "code",
      "metadata": {
        "id": "UVhixZZZQfUw"
      },
      "source": [
        "### YOUR CODE HERE ###\n",
        "\n",
        "Y = np.array(df['Brain']).reshape(-1, 1)\n",
        "print(Y)"
      ],
      "execution_count": null,
      "outputs": []
    },
    {
      "cell_type": "markdown",
      "metadata": {
        "id": "l_tU9rAlbhh4"
      },
      "source": [
        "2) Store the explanatory variable - head size size - as a matrix called X.  Don't forget to include the column of 1s for the intercept term."
      ]
    },
    {
      "cell_type": "code",
      "metadata": {
        "id": "_fGlhvmTbJdV"
      },
      "source": [
        "\n",
        "### YOUR CODE HERE ###\n",
        "\n",
        "ones= np.repeat(1, len(df)).reshape(-1,1)\n",
        "\n",
        "head= np.array(df['Head']).reshape(-1, 1)\n",
        "\n",
        "X = np.concatenate((ones, head), axis= 1)\n",
        "\n",
        "print(X)\n",
        "\n"
      ],
      "execution_count": null,
      "outputs": []
    },
    {
      "cell_type": "markdown",
      "metadata": {
        "id": "CTtxhF82ceG7"
      },
      "source": [
        "3) Calculate $X^T$.  Explain what the transpose of a matrix is."
      ]
    },
    {
      "cell_type": "code",
      "metadata": {
        "id": "m_Dd1ZbU335I"
      },
      "source": [
        "### YOUR CODE HERE ###\n",
        "print(X)\n",
        "print()\n",
        "print()\n",
        "X_T = np.transpose(X)\n",
        "print(X_T)"
      ],
      "execution_count": null,
      "outputs": []
    },
    {
      "cell_type": "markdown",
      "metadata": {
        "id": "6x8IEWIOc8qJ"
      },
      "source": [
        "Answer: \n",
        "A transposed matrix is one that has the original rows as the new columns and the original columns are the new rows. It's found by holding the diagonal fixed and flipping the other values across the diagonal."
      ]
    },
    {
      "cell_type": "markdown",
      "metadata": {
        "id": "GGng_b0CdJbV"
      },
      "source": [
        "4) Use matrix multplication to calculate $X^TX$"
      ]
    },
    {
      "cell_type": "code",
      "metadata": {
        "colab": {
          "base_uri": "https://localhost:8080/"
        },
        "id": "0Us7R5Hx2zij",
        "outputId": "75eadf34-36de-4b58-bf20-b3f34ac17ddf"
      },
      "source": [
        "# checking the 'shape' of the arrays\n",
        "print('X_T:')\n",
        "print(len(X_T))\n",
        "print(len(X_T[0]))\n",
        "print()\n",
        "print('X:')\n",
        "print(len(X))\n",
        "print(len(X[0]))"
      ],
      "execution_count": 18,
      "outputs": [
        {
          "output_type": "stream",
          "text": [
            "X_T:\n",
            "2\n",
            "237\n",
            "\n",
            "X:\n",
            "237\n",
            "2\n"
          ],
          "name": "stdout"
        }
      ]
    },
    {
      "cell_type": "code",
      "metadata": {
        "id": "_cOjfx-wcvca",
        "colab": {
          "base_uri": "https://localhost:8080/"
        },
        "outputId": "ae7080f7-99cc-47e7-a9fd-47e360e96c74"
      },
      "source": [
        "### YOUR CODE HERE ###\n",
        "\n",
        "X_T_X = np.matmul(X_T, X)\n",
        "X_T_X"
      ],
      "execution_count": 12,
      "outputs": [
        {
          "output_type": "execute_result",
          "data": {
            "text/plain": [
              "array([[       237,     861256],\n",
              "       [    861256, 3161283190]])"
            ]
          },
          "metadata": {
            "tags": []
          },
          "execution_count": 12
        }
      ]
    },
    {
      "cell_type": "markdown",
      "metadata": {
        "id": "xihZH2tIdWGc"
      },
      "source": [
        "5) Calculate $(X^TX)^{-1}$.  Explain what the inverse of a matrix is."
      ]
    },
    {
      "cell_type": "code",
      "metadata": {
        "id": "WxOrKY9F391Z",
        "colab": {
          "base_uri": "https://localhost:8080/"
        },
        "outputId": "267bd000-0924-4655-ee07-dfce55ba87f2"
      },
      "source": [
        "### YOUR CODE HERE ###\n",
        "\n",
        "X_T_X_inv= np.linalg.inv(X_T_X)\n",
        "print(X_T_X_inv)"
      ],
      "execution_count": 20,
      "outputs": [
        {
          "output_type": "stream",
          "text": [
            "[[ 4.23638519e-01 -1.15415543e-04]\n",
            " [-1.15415543e-04  3.17599920e-08]]\n"
          ],
          "name": "stdout"
        }
      ]
    },
    {
      "cell_type": "markdown",
      "metadata": {
        "id": "ZG14QgKzdnDF"
      },
      "source": [
        "Answer: The inverse is the reciprocal of the matrix used to generate the array. Like 1/array"
      ]
    },
    {
      "cell_type": "markdown",
      "metadata": {
        "id": "Z3-aBWcJdwlS"
      },
      "source": [
        "6) Use matrix multiplication to calculate $X^TY$."
      ]
    },
    {
      "cell_type": "code",
      "metadata": {
        "id": "IzDRPF924FNk",
        "colab": {
          "base_uri": "https://localhost:8080/"
        },
        "outputId": "2acfcb61-f5b4-4ff2-8fea-a4bccbc41037"
      },
      "source": [
        "### YOUR CODE HERE ###\n",
        "\n",
        "X_T_Y = np.matmul(X_T, Y)\n",
        "X_T_Y"
      ],
      "execution_count": 21,
      "outputs": [
        {
          "output_type": "execute_result",
          "data": {
            "text/plain": [
              "array([[    304041],\n",
              "       [1113176805]])"
            ]
          },
          "metadata": {
            "tags": []
          },
          "execution_count": 21
        }
      ]
    },
    {
      "cell_type": "markdown",
      "metadata": {
        "id": "uImjL8qgeDKS"
      },
      "source": [
        "7) Use your previous results to calculate the values of the slope and intercept using the formula $$ B = (X^{'}X)^{-1}X^{'}Y$$"
      ]
    },
    {
      "cell_type": "code",
      "metadata": {
        "id": "ataF2sSMagfm",
        "colab": {
          "base_uri": "https://localhost:8080/"
        },
        "outputId": "25534dbe-1d91-4827-94eb-028d6622081f"
      },
      "source": [
        "### YOUR CODE HERE ###\n",
        "\n",
        "# B = inverse(X_Transpose * X) * (X_Transpose * Y)\n",
        "\n",
        "B= np.matmul(X_T_X_inv, X_T_Y)\n",
        "print(B)"
      ],
      "execution_count": 29,
      "outputs": [
        {
          "output_type": "stream",
          "text": [
            "[[3.25573421e+02]\n",
            " [2.63429339e-01]]\n"
          ],
          "name": "stdout"
        }
      ]
    },
    {
      "cell_type": "markdown",
      "metadata": {
        "id": "58tEkd1YibRJ"
      },
      "source": [
        "8) Use the OLS function to calculate the slope and intercept and compare your answers."
      ]
    },
    {
      "cell_type": "code",
      "metadata": {
        "id": "cAz2v2l27XQC",
        "colab": {
          "base_uri": "https://localhost:8080/"
        },
        "outputId": "3cbd95a0-a3ba-4c55-f509-64be5b786147"
      },
      "source": [
        "### YOUR CODE HERE ###\n",
        "from statsmodels.formula.api import ols\n",
        "model1= ols('Brain ~ Head', data= df).fit()\n",
        "print(model1.params)"
      ],
      "execution_count": 26,
      "outputs": [
        {
          "output_type": "stream",
          "text": [
            "Intercept    325.573421\n",
            "Head           0.263429\n",
            "dtype: float64\n"
          ],
          "name": "stdout"
        }
      ]
    },
    {
      "cell_type": "markdown",
      "metadata": {
        "id": "fldeKZQJiWJY"
      },
      "source": [
        "9) Create a new X matrix that includes coluns for both head size and age group."
      ]
    },
    {
      "cell_type": "code",
      "metadata": {
        "id": "p5k_g4HBkPvv"
      },
      "source": [
        "### YOUR CODE HERE ###\n",
        "\n",
        "ones= np.repeat(1, len(df)).reshape(-1, 1)\n",
        "Head= np.array(df['Head']).reshape(-1, 1)\n",
        "Age= np.array(df['Age']).reshape(-1, 1)\n",
        "\n",
        "X= np.concatenate((ones, Head, Age), axis= 1)\n",
        "Y= np.array(df['Brain']).reshape(-1, 1)\n"
      ],
      "execution_count": 30,
      "outputs": []
    },
    {
      "cell_type": "markdown",
      "metadata": {
        "id": "NaPLUX6P7eV6"
      },
      "source": [
        "11) Calculate the values of the intercept and slope terms for head size and age using the formula $$ B = (X^{'}X)^{-1}X^{'}Y$$"
      ]
    },
    {
      "cell_type": "code",
      "metadata": {
        "id": "wffPKuJVkrCB",
        "colab": {
          "base_uri": "https://localhost:8080/"
        },
        "outputId": "b8170713-cd11-4e8b-a67f-933d314ec208"
      },
      "source": [
        "### YOUR CODE HERE ###\n",
        "\n",
        "# X transposed\n",
        "X_T_2 = np.transpose(X)\n",
        "\n",
        "# X_transpose * X\n",
        "X_T_X_2 = np.matmul(X_T_2, X)\n",
        "print('X_transpose times X', X_T_X_2)\n",
        "print()\n",
        "\n",
        "# inverse of X_Transpose*X\n",
        "X_T_X_2_inv= np.linalg.inv(X_T_X_2)\n",
        "print('X_Transpose times X, inverse:', X_T_X_2_inv)\n",
        "print()\n",
        "\n",
        "# (X_Transpose) times Y\n",
        "\n",
        "X_T_Y_2= np.matmul(X_T_2, Y)\n",
        "print('X_transpose times Y:', X_T_Y_2)\n",
        "print()\n",
        "\n",
        "# put it all together\n",
        "\n",
        "B2= np.matmul(X_T_X_2_inv, X_T_Y_2)\n",
        "print('Intercepts:')\n",
        "print(B2)\n",
        "print()"
      ],
      "execution_count": 39,
      "outputs": [
        {
          "output_type": "stream",
          "text": [
            "X_transpose times X [[       237     861256        364]\n",
            " [    861256 3161283190    1318231]\n",
            " [       364    1318231        618]]\n",
            "\n",
            "X_Transpose times X, inverse: [[ 4.96445307e-01 -1.20513659e-04 -3.53418297e-02]\n",
            " [-1.20513659e-04  3.21169750e-08  2.47472443e-06]\n",
            " [-3.53418297e-02  2.47472443e-06  1.71556109e-02]]\n",
            "\n",
            "X_transpose times Y: [[    304041]\n",
            " [1113176805]\n",
            " [    464561]]\n",
            "\n",
            "Intercepts:\n",
            "[[ 3.68282145e+02]\n",
            " [ 2.60438766e-01]\n",
            " [-2.07316446e+01]]\n",
            "\n"
          ],
          "name": "stdout"
        }
      ]
    },
    {
      "cell_type": "markdown",
      "metadata": {
        "id": "m92gsZo-8TcP"
      },
      "source": [
        "11) Use the OLS function to confirm your answer in 10)."
      ]
    },
    {
      "cell_type": "code",
      "metadata": {
        "id": "1k7mU2R-lGeL",
        "colab": {
          "base_uri": "https://localhost:8080/"
        },
        "outputId": "34bdb41c-6c22-4e67-c5ef-6b585b5d6ecc"
      },
      "source": [
        "### YOUR CODE HERE ###\n",
        "\n",
        "model2= ols('Brain ~ Head + Age', data= df).fit()\n",
        "print(model2.params)"
      ],
      "execution_count": 40,
      "outputs": [
        {
          "output_type": "stream",
          "text": [
            "Intercept    368.282145\n",
            "Head           0.260439\n",
            "Age          -20.731645\n",
            "dtype: float64\n"
          ],
          "name": "stdout"
        }
      ]
    },
    {
      "cell_type": "code",
      "metadata": {
        "colab": {
          "base_uri": "https://localhost:8080/"
        },
        "id": "jillwsYp-oNO",
        "outputId": "091fc802-32f8-42e3-cbbd-cbc6ba875a69"
      },
      "source": [
        "print(model2.summary())"
      ],
      "execution_count": 38,
      "outputs": [
        {
          "output_type": "stream",
          "text": [
            "                            OLS Regression Results                            \n",
            "==============================================================================\n",
            "Dep. Variable:                  Brain   R-squared:                       0.647\n",
            "Model:                            OLS   Adj. R-squared:                  0.644\n",
            "Method:                 Least Squares   F-statistic:                     214.1\n",
            "Date:                Fri, 11 Dec 2020   Prob (F-statistic):           1.38e-53\n",
            "Time:                        04:06:36   Log-Likelihood:                -1347.8\n",
            "No. Observations:                 237   AIC:                             2702.\n",
            "Df Residuals:                     234   BIC:                             2712.\n",
            "Df Model:                           2                                         \n",
            "Covariance Type:            nonrobust                                         \n",
            "==============================================================================\n",
            "                 coef    std err          t      P>|t|      [0.025      0.975]\n",
            "------------------------------------------------------------------------------\n",
            "Intercept    368.2821     50.618      7.276      0.000     268.557     468.007\n",
            "Head           0.2604      0.013     20.229      0.000       0.235       0.286\n",
            "Age          -20.7316      9.410     -2.203      0.029     -39.270      -2.193\n",
            "==============================================================================\n",
            "Omnibus:                        7.943   Durbin-Watson:                   1.889\n",
            "Prob(Omnibus):                  0.019   Jarque-Bera (JB):                8.238\n",
            "Skew:                           0.353   Prob(JB):                       0.0163\n",
            "Kurtosis:                       3.579   Cond. No.                     3.97e+04\n",
            "==============================================================================\n",
            "\n",
            "Warnings:\n",
            "[1] Standard Errors assume that the covariance matrix of the errors is correctly specified.\n",
            "[2] The condition number is large, 3.97e+04. This might indicate that there are\n",
            "strong multicollinearity or other numerical problems.\n"
          ],
          "name": "stdout"
        }
      ]
    },
    {
      "cell_type": "markdown",
      "metadata": {
        "id": "J10sSUChlzRH"
      },
      "source": [
        "#Use the following information to answer the assignment questions 12) - 16)."
      ]
    },
    {
      "cell_type": "markdown",
      "metadata": {
        "id": "9k2KIZbTl2kb"
      },
      "source": [
        "The song writing collaboration between John Lennon and Paul McCartney was one of the most productive in music history.  Unlike many other partnerships where one individual wrote lyrics and one wrote music, Lennon and McCartney composed both, and it was decided that any song that was written would be credited to both.  In the beginning of their relationship, many of their songs were truly collabroative.  However, later on, they often worked separately with little to no input from the other.    "
      ]
    },
    {
      "cell_type": "markdown",
      "metadata": {
        "id": "LsUaHKcEnhqc"
      },
      "source": [
        "Because of extensive reporting on the Beatles over the years, it is generally known if a Lennon-McCartney song was a true collabortion, primarily (or totally) writen by Lennon, or primarily (or totally) written by McCartney.  \n",
        "\n",
        "However, there are several disputed songs where both Lennon and McCartney at times claimed to be the sole (or primary) composer.\n",
        "\n",
        "We will now use cosine similarity to determine if *Ticket to Ride* (disputed) is most similar to *From Me to You* (collabortive, not disputed) or *Strawberry Fields* (Lennon, not disputed).\n",
        "\n",
        "From the Wikipedia article on the Lennon-McCartney Partnership: Lennon said that McCartney's contribution was limited to \"the way Ringo played the drums\".In Many Years from Now, McCartney said \"we sat down and wrote it together ... give him 60 percent of it.\""
      ]
    },
    {
      "cell_type": "markdown",
      "metadata": {
        "id": "MVipjsqR9o5y"
      },
      "source": [
        "12) Import the text of Strawberry Fields and calculate the freqency of song lyrics using the code below."
      ]
    },
    {
      "cell_type": "code",
      "metadata": {
        "id": "6SuKxo-lYsCR"
      },
      "source": [
        "### YOUR CODE HERE ###\n",
        "\n",
        "sf= \"let me take you down cause Im going to Strawberry Fields nothing is real and nothing to get hung about Strawberry Fields forever living is easy with eyes closed misunderstanding all you see its getting hard to be someone but it all works out it doesnt matter much to me let me take you down cause Im going to Strawberry Fields nothing is real and nothing to get hung about Strawberry Fields forever no one I think is in my tree I mean it must be high or low that is you cant you know tune in but its all right that is I think its not too bad let me take you down cause Im going to Strawberry Fields nothing is real and nothing to get hung about Strawberry Fields forever always no sometimes think but you know I know when it's a dream I think er no I mean er yes but its all wrong that is I think I disagree let me take you down cause Im going to Strawberry Fields nothing is real and nothing to get hung about Strawberry Fields forever Strawberry Fields forever Strawberry Fields forever\"\n",
        "sf_df= pd.DataFrame({'words': sf.split()})\n",
        "\n",
        "sf_freq= pd.DataFrame(pd.crosstab(index= sf_df['words'], columns= 'count'))\n",
        "\n",
        "sf_freq[0:50]\n"
      ],
      "execution_count": null,
      "outputs": []
    },
    {
      "cell_type": "markdown",
      "metadata": {
        "id": "K0z7cO3i_uQ_"
      },
      "source": [
        "13) Import the text of From Me to You and calculate the freqency of song lyrics using the code below."
      ]
    },
    {
      "cell_type": "code",
      "metadata": {
        "id": "jKcCwgydn0Rr"
      },
      "source": [
        "### YOUR CODE HERE ###\n",
        "\n",
        "me2u = \"if there's anything that you want if there's anything I can do just call on me and Ill send it along with love from me to you Ive got everything that you want like a heart thats oh so true just call on me and Ill send it along with love from me to you Ive got arms that long to hold you and keep you by my side Ive got lips that long to kiss you and keep you satisfied oh if theres anything that you want if theres anything I can do just call on me and Ill send it along with love from me to you from me to you just call on me and Ill send it along with love from me to you Ive got arms that long to hold you and keep you by my side Ive got lips that long to kiss you and keep you satisfied oh if theres anything that you want if theres anything I can do just call on me and Ill send it along with love from me to you to you to you to you\"\n",
        "\n",
        "me2u_df= pd.DataFrame({'words': me2u.split()})\n",
        "\n",
        "me2u_df_freq= pd.DataFrame(pd.crosstab(index= me2u_df['words'], columns= 'count'))\n",
        "me2u_df_freq[0:50]"
      ],
      "execution_count": null,
      "outputs": []
    },
    {
      "cell_type": "markdown",
      "metadata": {
        "id": "UNFG_UOT9y2Z"
      },
      "source": [
        "13) Import the text of Ticket to Ride using the code below."
      ]
    },
    {
      "cell_type": "code",
      "metadata": {
        "id": "Fh89MZnHAgcc"
      },
      "source": [
        "### YOUR CODE HERE ###\n",
        "\n",
        "tick2ride= \"I think Im gonna be sad I think its today yeah the girl thats driving me mad is going away shes got a ticket to ride shes got a ticket to ride shes got a ticket to ride but she dont care she said that living with me is bringing her down yeah for she would never be free when I was around shes got a ticket to ride shes got a ticket to ride shes got a ticket to ride but she dont care I dont know why shes ridin so high she ought to think twice she ought to do right by me before she gets to saying goodbye she ought to think twice she ought to do right by me I think Im gonna be sad I think its today yeah the girl thats driving me mad is going away yeah shes got a ticket to ride shes got a ticket to ride shes got a ticket to ride but she dont care I dont know why shes ridin so high she ought to think twice she ought to do right by me before she gets to saying goodbye she ought to think twice she ought to do right by me she said that living with me is bringing her down yeah for she would never be free when I was around ah shes got a ticket to ride shes got a ticket to ride shes got a ticket to ride but she dont care my baby dont care my baby dont care my baby dont care my baby dont care my baby dont care my baby dont care\"\n",
        "tick2ride_df = pd.DataFrame({'words': tick2ride.split()})\n",
        "\n",
        "tick2ride_df_freq= pd.DataFrame(pd.crosstab(index= tick2ride_df['words'], columns= 'count'))\n",
        "tick2ride_df_freq[0:50]\n"
      ],
      "execution_count": null,
      "outputs": []
    },
    {
      "cell_type": "markdown",
      "metadata": {
        "id": "c8ieic21sH4j"
      },
      "source": [
        "14) Concatenate Ticket to Ride and Strawberry Fields and calculate the cosine similarity."
      ]
    },
    {
      "cell_type": "code",
      "metadata": {
        "id": "5GYIQ3jf88MI"
      },
      "source": [
        "### YOUR CODE HERE ###\n",
        "\n",
        "from numpy import dot\n",
        "from numpy.linalg import norm\n",
        "\n",
        "df_tickstraw= [sf_freq, tick2ride_df_freq]\n",
        "\n",
        "all_words_1 = pd.concat(df_tickstraw, axis= 1)\n",
        "all_words_1[0:50]\n"
      ],
      "execution_count": null,
      "outputs": []
    },
    {
      "cell_type": "code",
      "metadata": {
        "id": "3GBIpGGGI2oh"
      },
      "source": [
        "\n",
        "all_words_1= all_words_1.fillna(0)\n",
        "all_words_1.columns = ['Strawberry Fields', 'Ticket to Ride']\n",
        "all_words_1[0:50]"
      ],
      "execution_count": null,
      "outputs": []
    },
    {
      "cell_type": "code",
      "metadata": {
        "colab": {
          "base_uri": "https://localhost:8080/"
        },
        "id": "-gqjbrRCJKc8",
        "outputId": "6ad932bd-dfbf-449b-827f-5a9af8beb50a"
      },
      "source": [
        "# cosine_similarity= dot procuct(Strawberry Fields, Ticket to Ride) / norm(Strawberry Fields) * norm(Ticket to Ride)\n",
        "\n",
        "cos_sim_1 = dot(all_words_1['Strawberry Fields'], all_words_1['Ticket to Ride'])/ (norm(all_words_1['Strawberry Fields'])*norm(all_words_1['Ticket to Ride']))\n",
        "print(cos_sim_1)"
      ],
      "execution_count": 57,
      "outputs": [
        {
          "output_type": "stream",
          "text": [
            "0.324035859004908\n"
          ],
          "name": "stdout"
        }
      ]
    },
    {
      "cell_type": "markdown",
      "metadata": {
        "id": "JCFn7l2XCefQ"
      },
      "source": [
        "15) Concatenate Ticket to Ride and From Me to You and calculate the cosine similarity."
      ]
    },
    {
      "cell_type": "code",
      "metadata": {
        "id": "uoj2UbIBCbJ5"
      },
      "source": [
        "### YOUR CODE HERE ###\n",
        "\n",
        "df_tickme2u = [tick2ride_df_freq, me2u_df_freq]\n",
        "\n",
        "all_words_2= pd.concat(df_tickme2u, axis= 1)\n",
        "all_words_2 = all_words_2.fillna(0)\n",
        "all_words_2.columns= ['Ticket to Ride', 'From Me to You']\n",
        "all_words_2[0:50]"
      ],
      "execution_count": null,
      "outputs": []
    },
    {
      "cell_type": "code",
      "metadata": {
        "colab": {
          "base_uri": "https://localhost:8080/"
        },
        "id": "k4M3paJlLUXQ",
        "outputId": "4bf3d202-57c5-491c-9d66-3016e0a849a5"
      },
      "source": [
        "cos_sim_2 = dot(all_words_2['Ticket to Ride'], all_words_2['From Me to You']) / (norm(all_words_2['Ticket to Ride']) * norm(all_words_2['From Me to You']))\n",
        "cos_sim_2"
      ],
      "execution_count": 59,
      "outputs": [
        {
          "output_type": "execute_result",
          "data": {
            "text/plain": [
              "0.2882268853551227"
            ]
          },
          "metadata": {
            "tags": []
          },
          "execution_count": 59
        }
      ]
    },
    {
      "cell_type": "markdown",
      "metadata": {
        "id": "hJ-wIIvzuBaV"
      },
      "source": [
        "16) What is your conclusion about Ticket to Ride?  Does it appear most similar to Strawberry Fields (Lennon) or From Me to You (collaborative)?"
      ]
    },
    {
      "cell_type": "markdown",
      "metadata": {
        "id": "SoURb1HbDIhK"
      },
      "source": [
        "Answer: \n",
        "\n",
        "It looks like Ticket to Ride is most similar to Strawberry Fields and therefore would be mainly attributed to John Lennon, rather than a collaboration of Lennon and McCartney."
      ]
    }
  ]
}