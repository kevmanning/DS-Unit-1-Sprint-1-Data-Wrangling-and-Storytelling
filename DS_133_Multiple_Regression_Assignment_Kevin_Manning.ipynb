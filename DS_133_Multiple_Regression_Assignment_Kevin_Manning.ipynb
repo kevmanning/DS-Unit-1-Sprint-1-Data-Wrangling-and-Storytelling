{
  "nbformat": 4,
  "nbformat_minor": 0,
  "metadata": {
    "colab": {
      "name": "DS_133_Multiple_Regression_Assignment_Kevin_Manning.ipynb",
      "provenance": [],
      "collapsed_sections": [],
      "include_colab_link": true
    },
    "kernelspec": {
      "name": "python3",
      "display_name": "Python 3"
    }
  },
  "cells": [
    {
      "cell_type": "markdown",
      "metadata": {
        "id": "view-in-github",
        "colab_type": "text"
      },
      "source": [
        "<a href=\"https://colab.research.google.com/github/kevmanning/DS-Unit-1-Sprint-1-Data-Wrangling-and-Storytelling/blob/master/DS_133_Multiple_Regression_Assignment_Kevin_Manning.ipynb\" target=\"_parent\"><img src=\"https://colab.research.google.com/assets/colab-badge.svg\" alt=\"Open In Colab\"/></a>"
      ]
    },
    {
      "cell_type": "markdown",
      "metadata": {
        "id": "RQw2GTc8oDRw"
      },
      "source": [
        "Unit 1, Sprint 3, Module 3\n",
        "\n",
        "###Learning Objectives:\n",
        "- Student can model the relationship of multple predictor variables to a single outcome.\n",
        "- Student can conduct a t-test to determine the significance of individual variables in the model.\n",
        "- Student can compare model fit using R-squared"
      ]
    },
    {
      "cell_type": "markdown",
      "metadata": {
        "id": "cFb8YfSCQJmx"
      },
      "source": [
        "#Use the following information to answer assignment questions 1 - 13."
      ]
    },
    {
      "cell_type": "markdown",
      "metadata": {
        "id": "MHWnltybtm8_"
      },
      "source": [
        "###Is head size related to brain weight in healthy adult humans?\n",
        "\n",
        "The Brainhead.csv dataset provides information on 237 individuals who were subject to post-mortem examination at the Middlesex Hospital in London around the turn of the 20th century. Study authors used cadavers to see if a relationship between brain weight and other more easily measured physiological characterizes such as age, sex, and head size could be determined. The end goal was to develop a way to estimate a person’s brain size while they were still alive (as the living aren’t keen on having their brains taken out and weighed). "
      ]
    },
    {
      "cell_type": "markdown",
      "metadata": {
        "id": "h5MRpr1HQHqp"
      },
      "source": [
        "**We wish to determine if we can improve on our model of the linear relationship between head size and brain weight in healthy human adults.**\n",
        "\n",
        "Source: R.J. Gladstone (1905). \"A Study of the Relations of the Brain to the Size of the Head\", Biometrika, Vol. 4, pp105-123."
      ]
    },
    {
      "cell_type": "code",
      "metadata": {
        "id": "0NKz1DvXQHqq",
        "colab": {
          "base_uri": "https://localhost:8080/",
          "height": 204
        },
        "outputId": "83cedb13-c194-4e28-ce3d-db90181ae327"
      },
      "source": [
        "#Import the Brainhead.csv dataset from a URL and print the first few rows\n",
        "\n",
        "import pandas as pd\n",
        "import numpy as np\n",
        "\n",
        "\n",
        "data_url = 'https://raw.githubusercontent.com/LambdaSchool/data-science-practice-datasets/main/unit_1/Brainhead/Brainhead.csv'\n",
        "\n",
        "df = pd.read_csv(data_url, skipinitialspace=True, header=0)\n",
        "\n",
        "df.head()"
      ],
      "execution_count": null,
      "outputs": [
        {
          "output_type": "execute_result",
          "data": {
            "text/html": [
              "<div>\n",
              "<style scoped>\n",
              "    .dataframe tbody tr th:only-of-type {\n",
              "        vertical-align: middle;\n",
              "    }\n",
              "\n",
              "    .dataframe tbody tr th {\n",
              "        vertical-align: top;\n",
              "    }\n",
              "\n",
              "    .dataframe thead th {\n",
              "        text-align: right;\n",
              "    }\n",
              "</style>\n",
              "<table border=\"1\" class=\"dataframe\">\n",
              "  <thead>\n",
              "    <tr style=\"text-align: right;\">\n",
              "      <th></th>\n",
              "      <th>Gender</th>\n",
              "      <th>Age</th>\n",
              "      <th>Head</th>\n",
              "      <th>Brain</th>\n",
              "    </tr>\n",
              "  </thead>\n",
              "  <tbody>\n",
              "    <tr>\n",
              "      <th>0</th>\n",
              "      <td>1</td>\n",
              "      <td>1</td>\n",
              "      <td>4512</td>\n",
              "      <td>1530</td>\n",
              "    </tr>\n",
              "    <tr>\n",
              "      <th>1</th>\n",
              "      <td>1</td>\n",
              "      <td>1</td>\n",
              "      <td>3738</td>\n",
              "      <td>1297</td>\n",
              "    </tr>\n",
              "    <tr>\n",
              "      <th>2</th>\n",
              "      <td>1</td>\n",
              "      <td>1</td>\n",
              "      <td>4261</td>\n",
              "      <td>1335</td>\n",
              "    </tr>\n",
              "    <tr>\n",
              "      <th>3</th>\n",
              "      <td>1</td>\n",
              "      <td>1</td>\n",
              "      <td>3777</td>\n",
              "      <td>1282</td>\n",
              "    </tr>\n",
              "    <tr>\n",
              "      <th>4</th>\n",
              "      <td>1</td>\n",
              "      <td>1</td>\n",
              "      <td>4177</td>\n",
              "      <td>1590</td>\n",
              "    </tr>\n",
              "  </tbody>\n",
              "</table>\n",
              "</div>"
            ],
            "text/plain": [
              "   Gender  Age  Head  Brain\n",
              "0       1    1  4512   1530\n",
              "1       1    1  3738   1297\n",
              "2       1    1  4261   1335\n",
              "3       1    1  3777   1282\n",
              "4       1    1  4177   1590"
            ]
          },
          "metadata": {
            "tags": []
          },
          "execution_count": 2
        }
      ]
    },
    {
      "cell_type": "markdown",
      "metadata": {
        "id": "EvmC93blRIDu"
      },
      "source": [
        "From the data dictionary:\n",
        "\n",
        "Gender: 1 = male, 2 = female\n",
        "\n",
        "Age: 1 = younger than age 46, 2 = age 46 and older"
      ]
    },
    {
      "cell_type": "markdown",
      "metadata": {
        "id": "4eJsXuRLxKrz"
      },
      "source": [
        "1) Run the OLS model relating head size to brain weight (you should have done this in your project yesterday) and print your results"
      ]
    },
    {
      "cell_type": "code",
      "metadata": {
        "id": "c9qyMXd_Hh6l",
        "colab": {
          "base_uri": "https://localhost:8080/"
        },
        "outputId": "1aec344f-58ec-4214-d9d1-d47c7af448ff"
      },
      "source": [
        "### YOUR CODE HERE ###\n",
        "import pandas as pd\n",
        "import numpy as np\n",
        "import statsmodels.api as sm\n",
        "from statsmodels.formula.api import ols\n",
        "\n",
        "model = ols('Brain ~ Head', data= df).fit()\n",
        "print(model.summary())\n"
      ],
      "execution_count": null,
      "outputs": [
        {
          "output_type": "stream",
          "text": [
            "/usr/local/lib/python3.6/dist-packages/statsmodels/tools/_testing.py:19: FutureWarning: pandas.util.testing is deprecated. Use the functions in the public API at pandas.testing instead.\n",
            "  import pandas.util.testing as tm\n"
          ],
          "name": "stderr"
        },
        {
          "output_type": "stream",
          "text": [
            "                            OLS Regression Results                            \n",
            "==============================================================================\n",
            "Dep. Variable:                  Brain   R-squared:                       0.639\n",
            "Model:                            OLS   Adj. R-squared:                  0.638\n",
            "Method:                 Least Squares   F-statistic:                     416.5\n",
            "Date:                Wed, 09 Dec 2020   Prob (F-statistic):           5.96e-54\n",
            "Time:                        23:00:07   Log-Likelihood:                -1350.3\n",
            "No. Observations:                 237   AIC:                             2705.\n",
            "Df Residuals:                     235   BIC:                             2711.\n",
            "Df Model:                           1                                         \n",
            "Covariance Type:            nonrobust                                         \n",
            "==============================================================================\n",
            "                 coef    std err          t      P>|t|      [0.025      0.975]\n",
            "------------------------------------------------------------------------------\n",
            "Intercept    325.5734     47.141      6.906      0.000     232.701     418.446\n",
            "Head           0.2634      0.013     20.409      0.000       0.238       0.289\n",
            "==============================================================================\n",
            "Omnibus:                        8.329   Durbin-Watson:                   1.843\n",
            "Prob(Omnibus):                  0.016   Jarque-Bera (JB):                8.665\n",
            "Skew:                           0.366   Prob(JB):                       0.0131\n",
            "Kurtosis:                       3.584   Cond. No.                     3.66e+04\n",
            "==============================================================================\n",
            "\n",
            "Warnings:\n",
            "[1] Standard Errors assume that the covariance matrix of the errors is correctly specified.\n",
            "[2] The condition number is large, 3.66e+04. This might indicate that there are\n",
            "strong multicollinearity or other numerical problems.\n"
          ],
          "name": "stdout"
        }
      ]
    },
    {
      "cell_type": "markdown",
      "metadata": {
        "id": "y21TW4n67mNq"
      },
      "source": [
        "\n",
        "2) What is the adjusted $R^2$ for this model?  Explain what this value means in a complete sentence.\n",
        "\n"
      ]
    },
    {
      "cell_type": "markdown",
      "metadata": {
        "id": "8GuTIO3Nvkyb"
      },
      "source": [
        "Answer here: The adjusted $R^2$ is 0.638<br>\n",
        "$R^2$ is the % of variability in the y variable that is explained by differences in the x variable.<br> In this case, 63% of the variabiltiy in brain weight is explained by differences in head size.\n",
        "\n",
        "The adjusted $R^2$ is 0.638, almost the same as the $R^2$.\n",
        "This makes sense, because the adjusted $R^2$ penalizes you for adding more factors into your model, and increases only if the additional factors are significant. Since we didn't add in additional factors to the model (yet), we would expect $R^2$ = $R^2$ adjusted.\n",
        "\n",
        "***I usually just write all of this stuff out to make sure that I understand it and can explain it in words.***\n"
      ]
    },
    {
      "cell_type": "markdown",
      "metadata": {
        "id": "Xj2YmBd_Jl9q"
      },
      "source": [
        "3) Right now age and gender are coded with 1 and 2.  Just to be safe when we run our model, we want to subtract \"1\" from Age and Gender so that \"1\" is now coded as \"0\" and \"2\" is now coded as \"1\".  Create two new variables in the dataframe to do this - don't overwrite the original variables."
      ]
    },
    {
      "cell_type": "code",
      "metadata": {
        "id": "z9z5i-EaKcj6",
        "colab": {
          "base_uri": "https://localhost:8080/"
        },
        "outputId": "ddd1ae4e-f275-4a2b-d7dd-ef6d80061845"
      },
      "source": [
        "### YOUR CODE HERE ###\n",
        "print(df.shape)\n",
        "print(df.head(3))\n",
        "print(' --- ')\n",
        "print(df.tail(3))"
      ],
      "execution_count": null,
      "outputs": [
        {
          "output_type": "stream",
          "text": [
            "(237, 4)\n",
            "   Gender  Age  Head  Brain\n",
            "0       1    1  4512   1530\n",
            "1       1    1  3738   1297\n",
            "2       1    1  4261   1335\n",
            " --- \n",
            "     Gender  Age  Head  Brain\n",
            "234       2    2  3233   1104\n",
            "235       2    2  3352   1170\n",
            "236       2    2  3391   1120\n"
          ],
          "name": "stdout"
        }
      ]
    },
    {
      "cell_type": "code",
      "metadata": {
        "colab": {
          "base_uri": "https://localhost:8080/"
        },
        "id": "zvnSYW36Jxu5",
        "outputId": "417951c3-9fd2-481b-914d-60a8832d7942"
      },
      "source": [
        "df['New_Gender'] = df['Gender'] - 1\n",
        "df['New_Age'] = df['Age'] - 1\n",
        "print(df.head(3))\n",
        "print(df.tail(3))"
      ],
      "execution_count": null,
      "outputs": [
        {
          "output_type": "stream",
          "text": [
            "   Gender  Age  Head  Brain  New_Gender  New_Age\n",
            "0       1    1  4512   1530           0        0\n",
            "1       1    1  3738   1297           0        0\n",
            "2       1    1  4261   1335           0        0\n",
            "     Gender  Age  Head  Brain  New_Gender  New_Age\n",
            "234       2    2  3233   1104           1        1\n",
            "235       2    2  3352   1170           1        1\n",
            "236       2    2  3391   1120           1        1\n"
          ],
          "name": "stdout"
        }
      ]
    },
    {
      "cell_type": "markdown",
      "metadata": {
        "id": "DGuhAOmhId9d"
      },
      "source": [
        "4) Model the relationship of age group and head size to brain weight."
      ]
    },
    {
      "cell_type": "code",
      "metadata": {
        "id": "d6fY5PSPIuOi",
        "colab": {
          "base_uri": "https://localhost:8080/"
        },
        "outputId": "fdfe2734-403e-4c48-feac-58cbef85127c"
      },
      "source": [
        "### YOUR CODE HERE ###\n",
        "\n",
        "model2= ols('Brain ~ Head + New_Age', data= df).fit()\n",
        "print(model2.summary())"
      ],
      "execution_count": null,
      "outputs": [
        {
          "output_type": "stream",
          "text": [
            "                            OLS Regression Results                            \n",
            "==============================================================================\n",
            "Dep. Variable:                  Brain   R-squared:                       0.647\n",
            "Model:                            OLS   Adj. R-squared:                  0.644\n",
            "Method:                 Least Squares   F-statistic:                     214.1\n",
            "Date:                Wed, 09 Dec 2020   Prob (F-statistic):           1.38e-53\n",
            "Time:                        23:00:07   Log-Likelihood:                -1347.8\n",
            "No. Observations:                 237   AIC:                             2702.\n",
            "Df Residuals:                     234   BIC:                             2712.\n",
            "Df Model:                           2                                         \n",
            "Covariance Type:            nonrobust                                         \n",
            "==============================================================================\n",
            "                 coef    std err          t      P>|t|      [0.025      0.975]\n",
            "------------------------------------------------------------------------------\n",
            "Intercept    347.5505     47.811      7.269      0.000     253.355     441.746\n",
            "Head           0.2604      0.013     20.229      0.000       0.235       0.286\n",
            "New_Age      -20.7316      9.410     -2.203      0.029     -39.270      -2.193\n",
            "==============================================================================\n",
            "Omnibus:                        7.943   Durbin-Watson:                   1.889\n",
            "Prob(Omnibus):                  0.019   Jarque-Bera (JB):                8.238\n",
            "Skew:                           0.353   Prob(JB):                       0.0163\n",
            "Kurtosis:                       3.579   Cond. No.                     3.75e+04\n",
            "==============================================================================\n",
            "\n",
            "Warnings:\n",
            "[1] Standard Errors assume that the covariance matrix of the errors is correctly specified.\n",
            "[2] The condition number is large, 3.75e+04. This might indicate that there are\n",
            "strong multicollinearity or other numerical problems.\n"
          ],
          "name": "stdout"
        }
      ]
    },
    {
      "cell_type": "markdown",
      "metadata": {
        "id": "Bq5YE7heKoDo"
      },
      "source": [
        "5) At the alpha = 0.05 level, is age group statistically significantly associated with brain weight after accounting for head size?  Explain your answer in at least one complete sentence."
      ]
    },
    {
      "cell_type": "markdown",
      "metadata": {
        "id": "NxFj_mUwLTCf"
      },
      "source": [
        "Answer here: At alpha = 0.05, age group is statistically significant with brain weight, afte accounting for head size. The value of P for new age is 0.029, which is < 0.05, so we reject the null hypothesis, that the variables are not related."
      ]
    },
    {
      "cell_type": "markdown",
      "metadata": {
        "id": "kWEAlAWVLfjn"
      },
      "source": [
        "6) At the alpha = 0.01 level, is age group statistically significantly associated with brain weight after accounting for head size?  Explain your answer in at least one complete sentence."
      ]
    },
    {
      "cell_type": "markdown",
      "metadata": {
        "id": "MxJIbPE8LjnX"
      },
      "source": [
        "Answer here: At alpha = 0.01, we fail to reject the null hypothesis because the p-value for Age is 0.029, which is > 0.01."
      ]
    },
    {
      "cell_type": "markdown",
      "metadata": {
        "id": "VAdboVOmLsqR"
      },
      "source": [
        "7) What is the adjusted $R^2$ for the model relating head size and age group to brain weight?  Does adding age group to the model increase the amount of variability in brain weight explained by the model?"
      ]
    },
    {
      "cell_type": "markdown",
      "metadata": {
        "id": "E9LtO4VBML2u"
      },
      "source": [
        "Answer here: the adjusted $R^2$ value is .644. Yes, this increases the amount of variability in brain weight explained by the model, but not by very much. Of course, the adjusted $R^2$ was at 63.8% with just head size, so it was already high.\n",
        "\n",
        "This case shows that Age is significant factor at alpha= 0.05, but also, the adjusted $R^2$ doesn't really improve much. Curious about the realtionship between brain weight and age, alone"
      ]
    },
    {
      "cell_type": "code",
      "metadata": {
        "colab": {
          "base_uri": "https://localhost:8080/"
        },
        "id": "tsdEfN32aNtF",
        "outputId": "622a93b0-d167-49c6-ee55-7f282f53d38b"
      },
      "source": [
        "model = ols('Brain ~ New_Age', data= df).fit()\n",
        "print(model.summary())"
      ],
      "execution_count": null,
      "outputs": [
        {
          "output_type": "stream",
          "text": [
            "                            OLS Regression Results                            \n",
            "==============================================================================\n",
            "Dep. Variable:                  Brain   R-squared:                       0.029\n",
            "Model:                            OLS   Adj. R-squared:                  0.025\n",
            "Method:                 Least Squares   F-statistic:                     6.946\n",
            "Date:                Wed, 09 Dec 2020   Prob (F-statistic):            0.00896\n",
            "Time:                        23:00:07   Log-Likelihood:                -1467.6\n",
            "No. Observations:                 237   AIC:                             2939.\n",
            "Df Residuals:                     235   BIC:                             2946.\n",
            "Df Model:                           1                                         \n",
            "Covariance Type:            nonrobust                                         \n",
            "==============================================================================\n",
            "                 coef    std err          t      P>|t|      [0.025      0.975]\n",
            "------------------------------------------------------------------------------\n",
            "Intercept   1304.7364     11.332    115.136      0.000    1282.411    1327.062\n",
            "New_Age      -40.7994     15.480     -2.636      0.009     -71.298     -10.301\n",
            "==============================================================================\n",
            "Omnibus:                        4.123   Durbin-Watson:                   1.507\n",
            "Prob(Omnibus):                  0.127   Jarque-Bera (JB):                3.780\n",
            "Skew:                           0.295   Prob(JB):                        0.151\n",
            "Kurtosis:                       3.188   Cond. No.                         2.71\n",
            "==============================================================================\n",
            "\n",
            "Warnings:\n",
            "[1] Standard Errors assume that the covariance matrix of the errors is correctly specified.\n"
          ],
          "name": "stdout"
        }
      ]
    },
    {
      "cell_type": "markdown",
      "metadata": {
        "id": "3LTPbSLHajuS"
      },
      "source": [
        "So Age explains only 2.5% of the variability in brain weight, but the model says that at alpha= 0.05, Age is statistically significant?"
      ]
    },
    {
      "cell_type": "markdown",
      "metadata": {
        "id": "Je3yM5G9Mdkx"
      },
      "source": [
        "8) Model the relationship of gender and head size to brain weight."
      ]
    },
    {
      "cell_type": "code",
      "metadata": {
        "id": "Ii7PVMgJMnNC",
        "colab": {
          "base_uri": "https://localhost:8080/"
        },
        "outputId": "6ad79ae3-3f42-47cd-df82-3edca692d281"
      },
      "source": [
        "### YOUR CODE HERE ###\n",
        "model = ols('Brain ~ Head + New_Gender', data= df).fit()\n",
        "print(model.summary())"
      ],
      "execution_count": null,
      "outputs": [
        {
          "output_type": "stream",
          "text": [
            "                            OLS Regression Results                            \n",
            "==============================================================================\n",
            "Dep. Variable:                  Brain   R-squared:                       0.643\n",
            "Model:                            OLS   Adj. R-squared:                  0.640\n",
            "Method:                 Least Squares   F-statistic:                     211.0\n",
            "Date:                Wed, 09 Dec 2020   Prob (F-statistic):           4.15e-53\n",
            "Time:                        23:00:07   Log-Likelihood:                -1348.9\n",
            "No. Observations:                 237   AIC:                             2704.\n",
            "Df Residuals:                     234   BIC:                             2714.\n",
            "Df Model:                           2                                         \n",
            "Covariance Type:            nonrobust                                         \n",
            "==============================================================================\n",
            "                 coef    std err          t      P>|t|      [0.025      0.975]\n",
            "------------------------------------------------------------------------------\n",
            "Intercept    378.7139     57.299      6.609      0.000     265.825     491.603\n",
            "Head           0.2509      0.015     16.734      0.000       0.221       0.280\n",
            "New_Gender   -17.8615     11.027     -1.620      0.107     -39.586       3.863\n",
            "==============================================================================\n",
            "Omnibus:                        8.109   Durbin-Watson:                   1.858\n",
            "Prob(Omnibus):                  0.017   Jarque-Bera (JB):                8.403\n",
            "Skew:                           0.360   Prob(JB):                       0.0150\n",
            "Kurtosis:                       3.576   Cond. No.                     4.49e+04\n",
            "==============================================================================\n",
            "\n",
            "Warnings:\n",
            "[1] Standard Errors assume that the covariance matrix of the errors is correctly specified.\n",
            "[2] The condition number is large, 4.49e+04. This might indicate that there are\n",
            "strong multicollinearity or other numerical problems.\n"
          ],
          "name": "stdout"
        }
      ]
    },
    {
      "cell_type": "markdown",
      "metadata": {
        "id": "tYG00tRDM4E9"
      },
      "source": [
        "9) At the alpha = 0.05 level, is gender statistically significantly associated with brain weight after accounting for head size?  Explain your answer in at least one complete sentence."
      ]
    },
    {
      "cell_type": "markdown",
      "metadata": {
        "id": "9VLKDiESxJSR"
      },
      "source": [
        "Answer here: at alpha= 0.05, gender is not a statistically significant predictor of brain weight because p= 0.107 > 0.05."
      ]
    },
    {
      "cell_type": "markdown",
      "metadata": {
        "id": "EmEI47CbC-ld"
      },
      "source": [
        "10) Write the linear model (insert the coefficients in the correct places) used to model the relationship between head size, age group and predicted brain weight.\n",
        "\n",
        "\n"
      ]
    },
    {
      "cell_type": "code",
      "metadata": {
        "colab": {
          "base_uri": "https://localhost:8080/"
        },
        "id": "agbTOfZQcQZi",
        "outputId": "456dcb07-0341-4b29-fdd4-f59b352a6827"
      },
      "source": [
        "model = ols('Brain ~ Head + New_Age', data= df).fit()\n",
        "print(model.summary())"
      ],
      "execution_count": null,
      "outputs": [
        {
          "output_type": "stream",
          "text": [
            "                            OLS Regression Results                            \n",
            "==============================================================================\n",
            "Dep. Variable:                  Brain   R-squared:                       0.647\n",
            "Model:                            OLS   Adj. R-squared:                  0.644\n",
            "Method:                 Least Squares   F-statistic:                     214.1\n",
            "Date:                Wed, 09 Dec 2020   Prob (F-statistic):           1.38e-53\n",
            "Time:                        23:00:07   Log-Likelihood:                -1347.8\n",
            "No. Observations:                 237   AIC:                             2702.\n",
            "Df Residuals:                     234   BIC:                             2712.\n",
            "Df Model:                           2                                         \n",
            "Covariance Type:            nonrobust                                         \n",
            "==============================================================================\n",
            "                 coef    std err          t      P>|t|      [0.025      0.975]\n",
            "------------------------------------------------------------------------------\n",
            "Intercept    347.5505     47.811      7.269      0.000     253.355     441.746\n",
            "Head           0.2604      0.013     20.229      0.000       0.235       0.286\n",
            "New_Age      -20.7316      9.410     -2.203      0.029     -39.270      -2.193\n",
            "==============================================================================\n",
            "Omnibus:                        7.943   Durbin-Watson:                   1.889\n",
            "Prob(Omnibus):                  0.019   Jarque-Bera (JB):                8.238\n",
            "Skew:                           0.353   Prob(JB):                       0.0163\n",
            "Kurtosis:                       3.579   Cond. No.                     3.75e+04\n",
            "==============================================================================\n",
            "\n",
            "Warnings:\n",
            "[1] Standard Errors assume that the covariance matrix of the errors is correctly specified.\n",
            "[2] The condition number is large, 3.75e+04. This might indicate that there are\n",
            "strong multicollinearity or other numerical problems.\n"
          ],
          "name": "stdout"
        }
      ]
    },
    {
      "cell_type": "markdown",
      "metadata": {
        "id": "vXtOtQ-fDTaa"
      },
      "source": [
        "Answer here: \n",
        "\n",
        "$\\hat{y}$ = 347.5505 + 0.2604 x Head - 20.7316 x Age"
      ]
    },
    {
      "cell_type": "markdown",
      "metadata": {
        "id": "GI170a6-o6hx"
      },
      "source": [
        "11) Plot the relationship between head size and brain weight on a scatterplot. Use different color dots to represent older and younger individuals."
      ]
    },
    {
      "cell_type": "code",
      "metadata": {
        "id": "LtYcWjOGAXo3",
        "colab": {
          "base_uri": "https://localhost:8080/",
          "height": 295
        },
        "outputId": "7faacd94-03eb-456d-95e8-df01aaf2065f"
      },
      "source": [
        "### YOUR CODE HERE ###\n",
        "\n",
        "import matplotlib.pyplot as plt\n",
        "\n",
        "fig, ax = plt.subplots()\n",
        "\n",
        "plt.scatter(x= df['Head'], y= df['Brain'], c= df['New_Age'])\n",
        "\n",
        "ax.set_title('Head Size and Brain Weight')\n",
        "ax.set_xlabel('Head size in cubic cm')\n",
        "ax.set_ylabel('Brain Weight in grams')\n",
        "\n",
        "plt.show()"
      ],
      "execution_count": null,
      "outputs": [
        {
          "output_type": "display_data",
          "data": {
            "image/png": "[encoded data removed]",
            "text/plain": [
              "<Figure size 432x288 with 1 Axes>"
            ]
          },
          "metadata": {
            "tags": [],
            "needs_background": "light"
          }
        }
      ]
    },
    {
      "cell_type": "markdown",
      "metadata": {
        "id": "wqv11_e7S7Ib"
      },
      "source": [
        "12) Estimate the brain weight of a 60-year-old with a head size of 4000 cubic cm."
      ]
    },
    {
      "cell_type": "code",
      "metadata": {
        "id": "Az7aXj-N6sW6",
        "colab": {
          "base_uri": "https://localhost:8080/"
        },
        "outputId": "ffcbc53e-b3aa-4962-a064-b571850191c2"
      },
      "source": [
        "### YOUR CODE HERE ###\n",
        "\n",
        "# age= 60, so that translates to age= 1\n",
        "model3= ols('Brain ~ Head + New_Age', data= df).fit()\n",
        "\n",
        "print(model3.params[0])\n",
        "print(model3.params[1])\n",
        "print(model3.params[2])\n",
        "print(model3.summary())\n",
        "\n",
        "x1= 4000\n",
        "x2= 1\n",
        "\n",
        "# just so I can understand where it's coming from\n",
        "\n",
        "intercept= model3.params[0]\n",
        "slope= model3.params[1]\n",
        "slope2= model3.params[2]\n",
        "\n",
        "predicted = intercept + slope*x1 + slope2*x2\n",
        "print('Predicted weight, in grams:', predicted)"
      ],
      "execution_count": null,
      "outputs": [
        {
          "output_type": "stream",
          "text": [
            "347.5505005102997\n",
            "0.2604387664616119\n",
            "-20.731644634671426\n",
            "                            OLS Regression Results                            \n",
            "==============================================================================\n",
            "Dep. Variable:                  Brain   R-squared:                       0.647\n",
            "Model:                            OLS   Adj. R-squared:                  0.644\n",
            "Method:                 Least Squares   F-statistic:                     214.1\n",
            "Date:                Wed, 09 Dec 2020   Prob (F-statistic):           1.38e-53\n",
            "Time:                        23:00:08   Log-Likelihood:                -1347.8\n",
            "No. Observations:                 237   AIC:                             2702.\n",
            "Df Residuals:                     234   BIC:                             2712.\n",
            "Df Model:                           2                                         \n",
            "Covariance Type:            nonrobust                                         \n",
            "==============================================================================\n",
            "                 coef    std err          t      P>|t|      [0.025      0.975]\n",
            "------------------------------------------------------------------------------\n",
            "Intercept    347.5505     47.811      7.269      0.000     253.355     441.746\n",
            "Head           0.2604      0.013     20.229      0.000       0.235       0.286\n",
            "New_Age      -20.7316      9.410     -2.203      0.029     -39.270      -2.193\n",
            "==============================================================================\n",
            "Omnibus:                        7.943   Durbin-Watson:                   1.889\n",
            "Prob(Omnibus):                  0.019   Jarque-Bera (JB):                8.238\n",
            "Skew:                           0.353   Prob(JB):                       0.0163\n",
            "Kurtosis:                       3.579   Cond. No.                     3.75e+04\n",
            "==============================================================================\n",
            "\n",
            "Warnings:\n",
            "[1] Standard Errors assume that the covariance matrix of the errors is correctly specified.\n",
            "[2] The condition number is large, 3.75e+04. This might indicate that there are\n",
            "strong multicollinearity or other numerical problems.\n",
            "Predicted weight, in grams: 1368.573921722076\n"
          ],
          "name": "stdout"
        }
      ]
    },
    {
      "cell_type": "markdown",
      "metadata": {
        "id": "B1O2nuW_3ixr"
      },
      "source": [
        "Answer here: \n",
        "The predicted brain weight of a 60-year-old with a head size of 4000 cubic cm is **1368.57 grams**."
      ]
    },
    {
      "cell_type": "markdown",
      "metadata": {
        "id": "-rhf7zmX9g3E"
      },
      "source": [
        "13) Estimate the brain weight of a 20-year-old with a head size of 3900 cubic cm."
      ]
    },
    {
      "cell_type": "code",
      "metadata": {
        "id": "gX01KjaSQxkF",
        "colab": {
          "base_uri": "https://localhost:8080/"
        },
        "outputId": "f13bdf98-02c2-4f9b-c90b-68bd941a3381"
      },
      "source": [
        "### YOUR CODE HERE ###\n",
        "\n",
        "x1= 3900\n",
        "x2= 0\n",
        "\n",
        "intercept= model3.params[0]\n",
        "slope= model3.params[1]\n",
        "slope2= model3.params[2]\n",
        "\n",
        "predicted = intercept + slope*x1 + slope2*x2\n",
        "print('Predicted weight, in grams:', predicted)"
      ],
      "execution_count": null,
      "outputs": [
        {
          "output_type": "stream",
          "text": [
            "Predicted weight, in grams: 1363.261689710586\n"
          ],
          "name": "stdout"
        }
      ]
    },
    {
      "cell_type": "markdown",
      "metadata": {
        "id": "iRVl1ZyC92kj"
      },
      "source": [
        "Answer here: \n",
        "The predicted brain weight of a 20-year-old with a head size of 3900 cubic cm is **1363.26 grams**."
      ]
    },
    {
      "cell_type": "markdown",
      "metadata": {
        "id": "KFrzV2M4fCpY"
      },
      "source": [
        "###Use the following information to answer questions 14 - 20\n"
      ]
    },
    {
      "cell_type": "markdown",
      "metadata": {
        "id": "T1TDNIibteov"
      },
      "source": [
        "Import the Sleep.csv dataset from a URL and print the first few rows\n",
        "\n",
        "Researchers recorded data on sleep duration as well as a set of ecological and constitutional variables  for a selection of mammal species. This data appears in the Sleep.csv dataset. \n",
        "\n",
        "\n",
        "Source: Allison, T. and Cicchetti, D. (1976), \"Sleep in Mammals: Ecological and Constitutional Correlates\",  Science, November 12, vol. 194, pp. 732-734.\n",
        "\n",
        "\n",
        "\n",
        "Data Dictionary:\n",
        "\n",
        "| Variable Name |            Description           |                                                                 Details                                                                 |              |   |\n",
        "|:-------------:|:--------------------------------:|:---------------------------------------------------------------------------------------------------------------------------------------:|--------------|---|\n",
        "| Animal        |            Animal name           |                                                            Character [string]                                                           |    |   |\n",
        "| Body          |            Body weight           |                                                               Numeric [kg]                                                              |       |   |\n",
        "| Brain         |           Brain weight           |                                                               Numeric [g]                                                               |  |   |\n",
        "| SWsleep       | Slow wave (“non-dreaming”) sleep | Numeric [hours]                                                                                                                         |              |   |\n",
        "| Parasleep     | Paradoxical (“dreaming”) sleep   | Numeric [hours]                                                                                                                         |              |   |\n",
        "| Totsleep      | Total sleep                      | Numeric [hours]                                                                                                                         |              |   |\n",
        "| Life          | Maximum life expectancy          | Numeric [years]                                                                                                                         |              |   |\n",
        "| Gest          | Gestation time                   | Numeric [days]                                                                                                                          |              |   |\n",
        "| Pred          | Predation index                  | Numeric [1 – 5] 1 = least likely to be preyed upon, 5 = most likely to be preyed upon                                                   |              |   |\n",
        "| Exposure      | Sleep exposure index             | Numeric [1 – 5] 1 = least amount of exposure during sleep (mammal sleeps indoors or in a den), 5 = most amount of exposure during sleep |              |   |\n",
        "| Danger        | Overall danger index             | Numeric [ 1 – 5] 1 = least amount of danger from other animals, 5 = most amount of danger from other animals                            |              |   |\n",
        "\n"
      ]
    },
    {
      "cell_type": "code",
      "metadata": {
        "id": "lAGRV2LkuKyw",
        "colab": {
          "base_uri": "https://localhost:8080/",
          "height": 204
        },
        "outputId": "45f3c888-e340-4388-c475-cfc328d7340b"
      },
      "source": [
        "data_url = 'https://raw.githubusercontent.com/LambdaSchool/data-science-practice-datasets/main/unit_1/Sleep/Sleep.csv'\n",
        "\n",
        "sleep = pd.read_csv(data_url, skipinitialspace=True, header=0)\n",
        "\n",
        "sleep['Log_gest'] = np.log(sleep['Gest'])\n",
        "\n",
        "sleep.head()"
      ],
      "execution_count": null,
      "outputs": [
        {
          "output_type": "execute_result",
          "data": {
            "text/html": [
              "<div>\n",
              "<style scoped>\n",
              "    .dataframe tbody tr th:only-of-type {\n",
              "        vertical-align: middle;\n",
              "    }\n",
              "\n",
              "    .dataframe tbody tr th {\n",
              "        vertical-align: top;\n",
              "    }\n",
              "\n",
              "    .dataframe thead th {\n",
              "        text-align: right;\n",
              "    }\n",
              "</style>\n",
              "<table border=\"1\" class=\"dataframe\">\n",
              "  <thead>\n",
              "    <tr style=\"text-align: right;\">\n",
              "      <th></th>\n",
              "      <th>Animal</th>\n",
              "      <th>Body</th>\n",
              "      <th>Brain</th>\n",
              "      <th>SWsleep</th>\n",
              "      <th>Parasleep</th>\n",
              "      <th>Totsleep</th>\n",
              "      <th>Life</th>\n",
              "      <th>Gest</th>\n",
              "      <th>Pred</th>\n",
              "      <th>Exposure</th>\n",
              "      <th>Danger</th>\n",
              "      <th>Log_gest</th>\n",
              "    </tr>\n",
              "  </thead>\n",
              "  <tbody>\n",
              "    <tr>\n",
              "      <th>0</th>\n",
              "      <td>African_giant_pouched_rat</td>\n",
              "      <td>1.000</td>\n",
              "      <td>6.6</td>\n",
              "      <td>6.3</td>\n",
              "      <td>2.0</td>\n",
              "      <td>8.3</td>\n",
              "      <td>4.5</td>\n",
              "      <td>42.0</td>\n",
              "      <td>3</td>\n",
              "      <td>1</td>\n",
              "      <td>3</td>\n",
              "      <td>3.737670</td>\n",
              "    </tr>\n",
              "    <tr>\n",
              "      <th>1</th>\n",
              "      <td>Asian_elephant</td>\n",
              "      <td>2547.000</td>\n",
              "      <td>4603.0</td>\n",
              "      <td>2.1</td>\n",
              "      <td>1.8</td>\n",
              "      <td>3.9</td>\n",
              "      <td>69.0</td>\n",
              "      <td>624.0</td>\n",
              "      <td>3</td>\n",
              "      <td>5</td>\n",
              "      <td>4</td>\n",
              "      <td>6.436150</td>\n",
              "    </tr>\n",
              "    <tr>\n",
              "      <th>2</th>\n",
              "      <td>Baboon</td>\n",
              "      <td>10.550</td>\n",
              "      <td>179.5</td>\n",
              "      <td>9.1</td>\n",
              "      <td>0.7</td>\n",
              "      <td>9.8</td>\n",
              "      <td>27.0</td>\n",
              "      <td>180.0</td>\n",
              "      <td>4</td>\n",
              "      <td>4</td>\n",
              "      <td>4</td>\n",
              "      <td>5.192957</td>\n",
              "    </tr>\n",
              "    <tr>\n",
              "      <th>3</th>\n",
              "      <td>Big_brown_bat</td>\n",
              "      <td>0.023</td>\n",
              "      <td>0.3</td>\n",
              "      <td>15.8</td>\n",
              "      <td>3.9</td>\n",
              "      <td>19.7</td>\n",
              "      <td>19.0</td>\n",
              "      <td>35.0</td>\n",
              "      <td>1</td>\n",
              "      <td>1</td>\n",
              "      <td>1</td>\n",
              "      <td>3.555348</td>\n",
              "    </tr>\n",
              "    <tr>\n",
              "      <th>4</th>\n",
              "      <td>Brazilian_tapir</td>\n",
              "      <td>160.000</td>\n",
              "      <td>169.0</td>\n",
              "      <td>5.2</td>\n",
              "      <td>1.0</td>\n",
              "      <td>6.2</td>\n",
              "      <td>30.4</td>\n",
              "      <td>392.0</td>\n",
              "      <td>4</td>\n",
              "      <td>5</td>\n",
              "      <td>4</td>\n",
              "      <td>5.971262</td>\n",
              "    </tr>\n",
              "  </tbody>\n",
              "</table>\n",
              "</div>"
            ],
            "text/plain": [
              "                      Animal      Body   Brain  ...  Exposure  Danger  Log_gest\n",
              "0  African_giant_pouched_rat     1.000     6.6  ...         1       3  3.737670\n",
              "1             Asian_elephant  2547.000  4603.0  ...         5       4  6.436150\n",
              "2                     Baboon    10.550   179.5  ...         4       4  5.192957\n",
              "3              Big_brown_bat     0.023     0.3  ...         1       1  3.555348\n",
              "4            Brazilian_tapir   160.000   169.0  ...         5       4  5.971262\n",
              "\n",
              "[5 rows x 12 columns]"
            ]
          },
          "metadata": {
            "tags": []
          },
          "execution_count": 13
        }
      ]
    },
    {
      "cell_type": "markdown",
      "metadata": {
        "id": "M_CeukMLf51x"
      },
      "source": [
        "14) Plot the relationship of body size to dreaming sleep and describe the shape of the relationship."
      ]
    },
    {
      "cell_type": "code",
      "metadata": {
        "id": "xihIFuAGgGbk",
        "colab": {
          "base_uri": "https://localhost:8080/"
        },
        "outputId": "306a4bbc-3be7-41c2-a865-cb23b12d77b5"
      },
      "source": [
        "### CODE HERE ###\n",
        "\n",
        "model4= ols('Parasleep ~ Body', data= sleep).fit()\n",
        "print(model4.summary())"
      ],
      "execution_count": null,
      "outputs": [
        {
          "output_type": "stream",
          "text": [
            "                            OLS Regression Results                            \n",
            "==============================================================================\n",
            "Dep. Variable:              Parasleep   R-squared:                       0.006\n",
            "Model:                            OLS   Adj. R-squared:                 -0.019\n",
            "Method:                 Least Squares   F-statistic:                    0.2256\n",
            "Date:                Wed, 09 Dec 2020   Prob (F-statistic):              0.637\n",
            "Time:                        23:00:08   Log-Likelihood:                -72.766\n",
            "No. Observations:                  42   AIC:                             149.5\n",
            "Df Residuals:                      40   BIC:                             153.0\n",
            "Df Model:                           1                                         \n",
            "Covariance Type:            nonrobust                                         \n",
            "==============================================================================\n",
            "                 coef    std err          t      P>|t|      [0.025      0.975]\n",
            "------------------------------------------------------------------------------\n",
            "Intercept      1.9261      0.223      8.629      0.000       1.475       2.377\n",
            "Body          -0.0003      0.001     -0.475      0.637      -0.001       0.001\n",
            "==============================================================================\n",
            "Omnibus:                       17.846   Durbin-Watson:                   2.132\n",
            "Prob(Omnibus):                  0.000   Jarque-Bera (JB):               22.185\n",
            "Skew:                           1.413   Prob(JB):                     1.52e-05\n",
            "Kurtosis:                       5.165   Cond. No.                         423.\n",
            "==============================================================================\n",
            "\n",
            "Warnings:\n",
            "[1] Standard Errors assume that the covariance matrix of the errors is correctly specified.\n"
          ],
          "name": "stdout"
        }
      ]
    },
    {
      "cell_type": "code",
      "metadata": {
        "colab": {
          "base_uri": "https://localhost:8080/",
          "height": 279
        },
        "id": "0ETCDkbepPOS",
        "outputId": "bdd17364-91f5-4796-9efa-d1dc70f0db1b"
      },
      "source": [
        "import seaborn as sns\n",
        "ax = sns.regplot(x= 'Body', y= 'Parasleep', data= sleep, ci= None)"
      ],
      "execution_count": null,
      "outputs": [
        {
          "output_type": "display_data",
          "data": {
            "image/png": "[encoded data removed]",
            "text/plain": [
              "<Figure size 432x288 with 1 Axes>"
            ]
          },
          "metadata": {
            "tags": [],
            "needs_background": "light"
          }
        }
      ]
    },
    {
      "cell_type": "code",
      "metadata": {
        "colab": {
          "base_uri": "https://localhost:8080/",
          "height": 265
        },
        "id": "LhxYVZvnqTTY",
        "outputId": "c65487fc-20e8-4bc0-e990-94fe2e6f528c"
      },
      "source": [
        "fig, ax = plt.subplots()\n",
        "\n",
        "plt.scatter(x= sleep['Body'], y= sleep['Parasleep'])\n",
        "plt.show()"
      ],
      "execution_count": null,
      "outputs": [
        {
          "output_type": "display_data",
          "data": {
            "image/png": "[encoded data removed]",
            "text/plain": [
              "<Figure size 432x288 with 1 Axes>"
            ]
          },
          "metadata": {
            "tags": [],
            "needs_background": "light"
          }
        }
      ]
    },
    {
      "cell_type": "markdown",
      "metadata": {
        "id": "JMYLPcP9r57M"
      },
      "source": [
        "Answer here: There does not appear to be a linear relationship between body size and dreaming sleep. And, with a p= 0.637, at alpha= 0.05, the model summary says that we fail to reject the null hypothesis that the two variables are not associated"
      ]
    },
    {
      "cell_type": "markdown",
      "metadata": {
        "id": "XSRoEnlcgGth"
      },
      "source": [
        "15) Does it appear that a log transformation would improve the model fit?  If yes, perform the log transformation and plot the resulting relationship with dreaming sleep."
      ]
    },
    {
      "cell_type": "code",
      "metadata": {
        "id": "_v-Kw2pYgQsK",
        "colab": {
          "base_uri": "https://localhost:8080/",
          "height": 280
        },
        "outputId": "0bec988b-efe6-479b-a972-ca9872ecf3de"
      },
      "source": [
        "### CODE HERE ###\n",
        "\n",
        "sleep['log_body'] = np.log(sleep['Body'])\n",
        "ax = sns.regplot(x= sleep['log_body'], y= sleep['Parasleep'], data= sleep, ci= None)"
      ],
      "execution_count": null,
      "outputs": [
        {
          "output_type": "display_data",
          "data": {
            "image/png": "[encoded data removed]",
            "text/plain": [
              "<Figure size 432x288 with 1 Axes>"
            ]
          },
          "metadata": {
            "tags": [],
            "needs_background": "light"
          }
        }
      ]
    },
    {
      "cell_type": "code",
      "metadata": {
        "colab": {
          "base_uri": "https://localhost:8080/",
          "height": 173
        },
        "id": "brBXOs03yXr0",
        "outputId": "18d578c2-9111-4ef3-aac8-b6ebf158ca5b"
      },
      "source": [
        "sleep.sample(4)"
      ],
      "execution_count": null,
      "outputs": [
        {
          "output_type": "execute_result",
          "data": {
            "text/html": [
              "<div>\n",
              "<style scoped>\n",
              "    .dataframe tbody tr th:only-of-type {\n",
              "        vertical-align: middle;\n",
              "    }\n",
              "\n",
              "    .dataframe tbody tr th {\n",
              "        vertical-align: top;\n",
              "    }\n",
              "\n",
              "    .dataframe thead th {\n",
              "        text-align: right;\n",
              "    }\n",
              "</style>\n",
              "<table border=\"1\" class=\"dataframe\">\n",
              "  <thead>\n",
              "    <tr style=\"text-align: right;\">\n",
              "      <th></th>\n",
              "      <th>Animal</th>\n",
              "      <th>Body</th>\n",
              "      <th>Brain</th>\n",
              "      <th>SWsleep</th>\n",
              "      <th>Parasleep</th>\n",
              "      <th>Totsleep</th>\n",
              "      <th>Life</th>\n",
              "      <th>Gest</th>\n",
              "      <th>Pred</th>\n",
              "      <th>Exposure</th>\n",
              "      <th>Danger</th>\n",
              "      <th>Log_gest</th>\n",
              "      <th>log_body</th>\n",
              "      <th>log_gest</th>\n",
              "    </tr>\n",
              "  </thead>\n",
              "  <tbody>\n",
              "    <tr>\n",
              "      <th>35</th>\n",
              "      <td>Rock_hyrax_(Procavia_hab)</td>\n",
              "      <td>3.60</td>\n",
              "      <td>21.0</td>\n",
              "      <td>4.9</td>\n",
              "      <td>0.5</td>\n",
              "      <td>5.4</td>\n",
              "      <td>6.0</td>\n",
              "      <td>225.0</td>\n",
              "      <td>3</td>\n",
              "      <td>2</td>\n",
              "      <td>3</td>\n",
              "      <td>5.416100</td>\n",
              "      <td>1.280934</td>\n",
              "      <td>5.416100</td>\n",
              "    </tr>\n",
              "    <tr>\n",
              "      <th>13</th>\n",
              "      <td>Goat</td>\n",
              "      <td>27.66</td>\n",
              "      <td>115.0</td>\n",
              "      <td>3.3</td>\n",
              "      <td>0.5</td>\n",
              "      <td>3.8</td>\n",
              "      <td>20.0</td>\n",
              "      <td>148.0</td>\n",
              "      <td>5</td>\n",
              "      <td>5</td>\n",
              "      <td>5</td>\n",
              "      <td>4.997212</td>\n",
              "      <td>3.319987</td>\n",
              "      <td>4.997212</td>\n",
              "    </tr>\n",
              "    <tr>\n",
              "      <th>15</th>\n",
              "      <td>Gray_seal</td>\n",
              "      <td>85.00</td>\n",
              "      <td>325.0</td>\n",
              "      <td>4.7</td>\n",
              "      <td>1.5</td>\n",
              "      <td>6.2</td>\n",
              "      <td>41.0</td>\n",
              "      <td>310.0</td>\n",
              "      <td>1</td>\n",
              "      <td>3</td>\n",
              "      <td>1</td>\n",
              "      <td>5.736572</td>\n",
              "      <td>4.442651</td>\n",
              "      <td>5.736572</td>\n",
              "    </tr>\n",
              "    <tr>\n",
              "      <th>21</th>\n",
              "      <td>Human</td>\n",
              "      <td>62.00</td>\n",
              "      <td>1320.0</td>\n",
              "      <td>6.1</td>\n",
              "      <td>1.9</td>\n",
              "      <td>8.0</td>\n",
              "      <td>100.0</td>\n",
              "      <td>267.0</td>\n",
              "      <td>1</td>\n",
              "      <td>1</td>\n",
              "      <td>1</td>\n",
              "      <td>5.587249</td>\n",
              "      <td>4.127134</td>\n",
              "      <td>5.587249</td>\n",
              "    </tr>\n",
              "  </tbody>\n",
              "</table>\n",
              "</div>"
            ],
            "text/plain": [
              "                       Animal   Body   Brain  ...  Log_gest  log_body  log_gest\n",
              "35  Rock_hyrax_(Procavia_hab)   3.60    21.0  ...  5.416100  1.280934  5.416100\n",
              "13                       Goat  27.66   115.0  ...  4.997212  3.319987  4.997212\n",
              "15                  Gray_seal  85.00   325.0  ...  5.736572  4.442651  5.736572\n",
              "21                      Human  62.00  1320.0  ...  5.587249  4.127134  5.587249\n",
              "\n",
              "[4 rows x 14 columns]"
            ]
          },
          "metadata": {
            "tags": []
          },
          "execution_count": 26
        }
      ]
    },
    {
      "cell_type": "code",
      "metadata": {
        "colab": {
          "base_uri": "https://localhost:8080/"
        },
        "id": "ZW5m-FqMrvKO",
        "outputId": "2879efc0-1c95-4841-ce63-df441265e9bc"
      },
      "source": [
        "model5= ols('Parasleep ~ log_body', data= sleep).fit()\n",
        "print(model5.summary())"
      ],
      "execution_count": null,
      "outputs": [
        {
          "output_type": "stream",
          "text": [
            "                            OLS Regression Results                            \n",
            "==============================================================================\n",
            "Dep. Variable:              Parasleep   R-squared:                       0.073\n",
            "Model:                            OLS   Adj. R-squared:                  0.049\n",
            "Method:                 Least Squares   F-statistic:                     3.128\n",
            "Date:                Wed, 09 Dec 2020   Prob (F-statistic):             0.0846\n",
            "Time:                        23:00:09   Log-Likelihood:                -71.303\n",
            "No. Observations:                  42   AIC:                             146.6\n",
            "Df Residuals:                      40   BIC:                             150.1\n",
            "Df Model:                           1                                         \n",
            "Covariance Type:            nonrobust                                         \n",
            "==============================================================================\n",
            "                 coef    std err          t      P>|t|      [0.025      0.975]\n",
            "------------------------------------------------------------------------------\n",
            "Intercept      1.9980      0.216      9.243      0.000       1.561       2.435\n",
            "log_body      -0.1219      0.069     -1.769      0.085      -0.261       0.017\n",
            "==============================================================================\n",
            "Omnibus:                       22.013   Durbin-Watson:                   1.976\n",
            "Prob(Omnibus):                  0.000   Jarque-Bera (JB):               33.016\n",
            "Skew:                           1.581   Prob(JB):                     6.77e-08\n",
            "Kurtosis:                       5.979   Cond. No.                         3.27\n",
            "==============================================================================\n",
            "\n",
            "Warnings:\n",
            "[1] Standard Errors assume that the covariance matrix of the errors is correctly specified.\n"
          ],
          "name": "stdout"
        }
      ]
    },
    {
      "cell_type": "markdown",
      "metadata": {
        "id": "be8_EdZUr9WC"
      },
      "source": [
        "Answer here: Even with the log transformation of the Body variable, it still appears that at alpha= 0.05, we fail to reject the null hypothesis that there is no association between body size and dreaming sleep"
      ]
    },
    {
      "cell_type": "markdown",
      "metadata": {
        "id": "IXLsBQ4igQ3p"
      },
      "source": [
        "16) Run an ols model using gestation time, danger index and the log of body size.  Is the log of body size statistically significantly associated with time spent in dreaming sleep after accounting for the other two factors?"
      ]
    },
    {
      "cell_type": "code",
      "metadata": {
        "id": "GKx8jL5Uryyn",
        "colab": {
          "base_uri": "https://localhost:8080/"
        },
        "outputId": "3d0c7520-c564-41a2-c276-dd075c9a3ec9"
      },
      "source": [
        "### CODE HERE ###\n",
        "\n",
        "model6= ols('Parasleep ~ Gest + C(Danger) + log_body', data= sleep).fit()\n",
        "print(model6.summary())"
      ],
      "execution_count": null,
      "outputs": [
        {
          "output_type": "stream",
          "text": [
            "                            OLS Regression Results                            \n",
            "==============================================================================\n",
            "Dep. Variable:              Parasleep   R-squared:                       0.445\n",
            "Model:                            OLS   Adj. R-squared:                  0.349\n",
            "Method:                 Least Squares   F-statistic:                     4.670\n",
            "Date:                Wed, 09 Dec 2020   Prob (F-statistic):            0.00138\n",
            "Time:                        23:16:29   Log-Likelihood:                -60.534\n",
            "No. Observations:                  42   AIC:                             135.1\n",
            "Df Residuals:                      35   BIC:                             147.2\n",
            "Df Model:                           6                                         \n",
            "Covariance Type:            nonrobust                                         \n",
            "==================================================================================\n",
            "                     coef    std err          t      P>|t|      [0.025      0.975]\n",
            "----------------------------------------------------------------------------------\n",
            "Intercept          3.5683      0.392      9.103      0.000       2.772       4.364\n",
            "C(Danger)[T.2]    -1.1850      0.495     -2.393      0.022      -2.190      -0.180\n",
            "C(Danger)[T.3]    -1.3076      0.561     -2.331      0.026      -2.446      -0.169\n",
            "C(Danger)[T.4]    -1.5527      0.527     -2.945      0.006      -2.623      -0.482\n",
            "C(Danger)[T.5]    -2.3269      0.653     -3.566      0.001      -3.652      -1.002\n",
            "Gest              -0.0049      0.002     -2.181      0.036      -0.009      -0.000\n",
            "log_body           0.0922      0.100      0.921      0.363      -0.111       0.295\n",
            "==============================================================================\n",
            "Omnibus:                        7.084   Durbin-Watson:                   2.288\n",
            "Prob(Omnibus):                  0.029   Jarque-Bera (JB):                5.819\n",
            "Skew:                           0.789   Prob(JB):                       0.0545\n",
            "Kurtosis:                       3.914   Cond. No.                         893.\n",
            "==============================================================================\n",
            "\n",
            "Warnings:\n",
            "[1] Standard Errors assume that the covariance matrix of the errors is correctly specified.\n"
          ],
          "name": "stdout"
        }
      ]
    },
    {
      "cell_type": "code",
      "metadata": {
        "colab": {
          "base_uri": "https://localhost:8080/",
          "height": 282
        },
        "id": "t2_Yn_BByM2B",
        "outputId": "ed021442-fcd7-47f3-d2ab-418dfdb82613"
      },
      "source": [
        "fig, ax = plt.subplots()\n",
        "plt.scatter(x = sleep['Parasleep'], y = sleep['log_body'], c = sleep['Danger'])"
      ],
      "execution_count": null,
      "outputs": [
        {
          "output_type": "execute_result",
          "data": {
            "text/plain": [
              "<matplotlib.collections.PathCollection at 0x7fe5a3ca7f28>"
            ]
          },
          "metadata": {
            "tags": []
          },
          "execution_count": 29
        },
        {
          "output_type": "display_data",
          "data": {
            "image/png": "[encoded data removed]",
            "text/plain": [
              "<Figure size 432x288 with 1 Axes>"
            ]
          },
          "metadata": {
            "tags": [],
            "needs_background": "light"
          }
        }
      ]
    },
    {
      "cell_type": "markdown",
      "metadata": {
        "id": "EZ2WNuY6sB54"
      },
      "source": [
        "Answer here: No, the log of the body size is not statistically significant to dreaming sleep, even after accounting for gestational period and danger zone. P = .36 > .05, so we fail to reject the null hyp that there is no relationship"
      ]
    },
    {
      "cell_type": "markdown",
      "metadata": {
        "id": "IsQKr8qTgjmP"
      },
      "source": [
        "17) Plot the relationship of gestational time and dreaming sleep with different colors for animals who experience different amounts of sleep exposure."
      ]
    },
    {
      "cell_type": "code",
      "metadata": {
        "id": "v1OD3_SihFY8",
        "colab": {
          "base_uri": "https://localhost:8080/",
          "height": 265
        },
        "outputId": "ebebd7e5-9e6e-4b4d-8104-cdc9b20eeca9"
      },
      "source": [
        "### CODE HERE ###\n",
        "\n",
        "fig, ax = plt.subplots()\n",
        "\n",
        "plt.scatter(x= sleep['Gest'], y= sleep['Parasleep'], c= sleep['Exposure'])\n",
        "plt.show()"
      ],
      "execution_count": null,
      "outputs": [
        {
          "output_type": "display_data",
          "data": {
            "image/png": "[encoded data removed]",
            "text/plain": [
              "<Figure size 432x288 with 1 Axes>"
            ]
          },
          "metadata": {
            "tags": [],
            "needs_background": "light"
          }
        }
      ]
    },
    {
      "cell_type": "markdown",
      "metadata": {
        "id": "LZRUl27JsFtE"
      },
      "source": [
        "Answer here: \n",
        "\n"
      ]
    },
    {
      "cell_type": "markdown",
      "metadata": {
        "id": "9kDH7IJ-hFoF"
      },
      "source": [
        "18) Run an ols model using the log of gestation time and sleep exposure index to predict the amount of time spent in dreaming sleep.  Is sleep exposure index a better predictor of amount of time spent in dreaming sleep than danger index?"
      ]
    },
    {
      "cell_type": "code",
      "metadata": {
        "id": "HEAIQy8DnxFT",
        "colab": {
          "base_uri": "https://localhost:8080/"
        },
        "outputId": "0c8b9469-c327-4d09-fd19-6fd2995b45ea"
      },
      "source": [
        "### CODE HERE ###\n",
        "\n",
        "sleep['log_gest']= np.log(sleep['Gest'])\n",
        "\n",
        "model7 = ols('Parasleep ~ log_gest + C(Exposure)', data= sleep).fit()\n",
        "print(model7.summary())"
      ],
      "execution_count": null,
      "outputs": [
        {
          "output_type": "stream",
          "text": [
            "                            OLS Regression Results                            \n",
            "==============================================================================\n",
            "Dep. Variable:              Parasleep   R-squared:                       0.389\n",
            "Model:                            OLS   Adj. R-squared:                  0.304\n",
            "Method:                 Least Squares   F-statistic:                     4.583\n",
            "Date:                Wed, 09 Dec 2020   Prob (F-statistic):            0.00245\n",
            "Time:                        23:19:59   Log-Likelihood:                -62.540\n",
            "No. Observations:                  42   AIC:                             137.1\n",
            "Df Residuals:                      36   BIC:                             147.5\n",
            "Df Model:                           5                                         \n",
            "Covariance Type:            nonrobust                                         \n",
            "====================================================================================\n",
            "                       coef    std err          t      P>|t|      [0.025      0.975]\n",
            "------------------------------------------------------------------------------------\n",
            "Intercept            4.6239      0.848      5.455      0.000       2.905       6.343\n",
            "C(Exposure)[T.2]    -0.6132      0.487     -1.259      0.216      -1.601       0.375\n",
            "C(Exposure)[T.3]    -0.9614      0.702     -1.369      0.180      -2.386       0.463\n",
            "C(Exposure)[T.4]    -0.8153      0.690     -1.182      0.245      -2.214       0.583\n",
            "C(Exposure)[T.5]    -0.9677      0.617     -1.570      0.125      -2.218       0.283\n",
            "log_gest            -0.5171      0.214     -2.418      0.021      -0.951      -0.083\n",
            "==============================================================================\n",
            "Omnibus:                        7.922   Durbin-Watson:                   1.960\n",
            "Prob(Omnibus):                  0.019   Jarque-Bera (JB):                6.895\n",
            "Skew:                           0.794   Prob(JB):                       0.0318\n",
            "Kurtosis:                       4.191   Cond. No.                         27.0\n",
            "==============================================================================\n",
            "\n",
            "Warnings:\n",
            "[1] Standard Errors assume that the covariance matrix of the errors is correctly specified.\n"
          ],
          "name": "stdout"
        }
      ]
    },
    {
      "cell_type": "code",
      "metadata": {
        "colab": {
          "base_uri": "https://localhost:8080/"
        },
        "id": "scJMPXRYwKf-",
        "outputId": "9c0c0680-e012-49bb-af29-d4cc726eb9ed"
      },
      "source": [
        "model8 = ols('Parasleep ~ log_gest + C(Danger)', data= sleep).fit()\n",
        "print(model8.summary())"
      ],
      "execution_count": null,
      "outputs": [
        {
          "output_type": "stream",
          "text": [
            "                            OLS Regression Results                            \n",
            "==============================================================================\n",
            "Dep. Variable:              Parasleep   R-squared:                       0.557\n",
            "Model:                            OLS   Adj. R-squared:                  0.496\n",
            "Method:                 Least Squares   F-statistic:                     9.071\n",
            "Date:                Wed, 09 Dec 2020   Prob (F-statistic):           1.19e-05\n",
            "Time:                        23:20:39   Log-Likelihood:                -55.763\n",
            "No. Observations:                  42   AIC:                             123.5\n",
            "Df Residuals:                      36   BIC:                             134.0\n",
            "Df Model:                           5                                         \n",
            "Covariance Type:            nonrobust                                         \n",
            "==================================================================================\n",
            "                     coef    std err          t      P>|t|      [0.025      0.975]\n",
            "----------------------------------------------------------------------------------\n",
            "Intercept          5.8263      0.731      7.970      0.000       4.344       7.309\n",
            "C(Danger)[T.2]    -1.2319      0.431     -2.858      0.007      -2.106      -0.358\n",
            "C(Danger)[T.3]    -1.5368      0.479     -3.208      0.003      -2.508      -0.565\n",
            "C(Danger)[T.4]    -1.3989      0.461     -3.032      0.004      -2.334      -0.463\n",
            "C(Danger)[T.5]    -1.8772      0.547     -3.432      0.002      -2.987      -0.768\n",
            "log_gest          -0.6523      0.160     -4.082      0.000      -0.976      -0.328\n",
            "==============================================================================\n",
            "Omnibus:                        2.732   Durbin-Watson:                   2.201\n",
            "Prob(Omnibus):                  0.255   Jarque-Bera (JB):                1.703\n",
            "Skew:                           0.268   Prob(JB):                        0.427\n",
            "Kurtosis:                       3.828   Cond. No.                         24.5\n",
            "==============================================================================\n",
            "\n",
            "Warnings:\n",
            "[1] Standard Errors assume that the covariance matrix of the errors is correctly specified.\n"
          ],
          "name": "stdout"
        }
      ]
    },
    {
      "cell_type": "markdown",
      "metadata": {
        "id": "YNKKNuxPoQ4T"
      },
      "source": [
        "Answer here: \n",
        "The adjusted $R^2$ value for danger zone, given the log of gestation time, is much better than the sleep exposure index for predicting dreaming sleep."
      ]
    },
    {
      "cell_type": "markdown",
      "metadata": {
        "id": "CzTPjXzPkUGE"
      },
      "source": [
        "19) Plot the relationship of gestational time and dreaming sleep with different colors for animals who experience different amounts of sleep exposure."
      ]
    },
    {
      "cell_type": "code",
      "metadata": {
        "id": "uRrlI2iNoVyi",
        "colab": {
          "base_uri": "https://localhost:8080/",
          "height": 265
        },
        "outputId": "8bc0004f-fdf6-4179-a58e-cf4318cb9536"
      },
      "source": [
        "### CODE HERE ###\n",
        "\n",
        "fig, ax = plt.subplots()\n",
        "\n",
        "plt.scatter(x= sleep['Gest'], y= sleep['Parasleep'], c= sleep['Exposure'])\n",
        "plt.show()"
      ],
      "execution_count": null,
      "outputs": [
        {
          "output_type": "display_data",
          "data": {
            "image/png": "[encoded data removed]",
            "text/plain": [
              "<Figure size 432x288 with 1 Axes>"
            ]
          },
          "metadata": {
            "tags": [],
            "needs_background": "light"
          }
        }
      ]
    },
    {
      "cell_type": "markdown",
      "metadata": {
        "id": "uxbIArwzsMgT"
      },
      "source": [
        "Answer here: See #17 answer"
      ]
    },
    {
      "cell_type": "markdown",
      "metadata": {
        "id": "XYs1IpYNk8Zw"
      },
      "source": [
        "20) Run an ols model using the log of gestation time and predation index to predict the amount of time spent in dreaming sleep.  Is predation index a better predictor of amount of time spent in dreaming sleep than danger index?"
      ]
    },
    {
      "cell_type": "code",
      "metadata": {
        "id": "CDZNzxP0rfsN",
        "colab": {
          "base_uri": "https://localhost:8080/"
        },
        "outputId": "fddabd23-e546-4fb8-d2c0-3bf7f10ac3be"
      },
      "source": [
        "### CODE HERE ###\n",
        "\n",
        "model9 = ols('Parasleep ~ log_gest + C(Pred)', data= sleep).fit()\n",
        "print(model9.summary())"
      ],
      "execution_count": null,
      "outputs": [
        {
          "output_type": "stream",
          "text": [
            "                            OLS Regression Results                            \n",
            "==============================================================================\n",
            "Dep. Variable:              Parasleep   R-squared:                       0.454\n",
            "Model:                            OLS   Adj. R-squared:                  0.378\n",
            "Method:                 Least Squares   F-statistic:                     5.983\n",
            "Date:                Wed, 09 Dec 2020   Prob (F-statistic):           0.000398\n",
            "Time:                        23:33:12   Log-Likelihood:                -60.182\n",
            "No. Observations:                  42   AIC:                             132.4\n",
            "Df Residuals:                      36   BIC:                             142.8\n",
            "Df Model:                           5                                         \n",
            "Covariance Type:            nonrobust                                         \n",
            "================================================================================\n",
            "                   coef    std err          t      P>|t|      [0.025      0.975]\n",
            "--------------------------------------------------------------------------------\n",
            "Intercept        5.4498      0.840      6.489      0.000       3.746       7.153\n",
            "C(Pred)[T.2]    -0.0895      0.515     -0.174      0.863      -1.135       0.956\n",
            "C(Pred)[T.3]    -0.5359      0.567     -0.944      0.351      -1.687       0.615\n",
            "C(Pred)[T.4]    -1.0337      0.568     -1.821      0.077      -2.185       0.117\n",
            "C(Pred)[T.5]    -1.1972      0.532     -2.249      0.031      -2.277      -0.118\n",
            "log_gest        -0.6877      0.165     -4.159      0.000      -1.023      -0.352\n",
            "==============================================================================\n",
            "Omnibus:                        5.334   Durbin-Watson:                   1.927\n",
            "Prob(Omnibus):                  0.069   Jarque-Bera (JB):                6.290\n",
            "Skew:                           0.188   Prob(JB):                       0.0431\n",
            "Kurtosis:                       4.858   Cond. No.                         28.2\n",
            "==============================================================================\n",
            "\n",
            "Warnings:\n",
            "[1] Standard Errors assume that the covariance matrix of the errors is correctly specified.\n"
          ],
          "name": "stdout"
        }
      ]
    },
    {
      "cell_type": "markdown",
      "metadata": {
        "id": "_KLWYExnsPLo"
      },
      "source": [
        "Answer here: No, Predation index is not a better predictor than danger zone, according to the adjusted $R^2$s"
      ]
    },
    {
      "cell_type": "markdown",
      "metadata": {
        "id": "R-dBXGzCRu4a"
      },
      "source": [
        "#Portfolio Project Assignment\n",
        "\n",
        "Get (and give) constructive feedback to a peer.  Swap projects with at least one other student, and give each other constructive feedback.  Make sure to tell them what you like about their project as well as any suggestions you have for imporvement."
      ]
    },
    {
      "cell_type": "markdown",
      "metadata": {
        "id": "RnDi8855VIPB"
      },
      "source": [
        "\n",
        "\n",
        "---\n",
        "\n"
      ]
    }
  ]
}